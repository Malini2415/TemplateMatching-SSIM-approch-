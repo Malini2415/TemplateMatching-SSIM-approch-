{
 "cells": [
  {
   "cell_type": "code",
   "execution_count": 8,
   "metadata": {},
   "outputs": [],
   "source": [
    "from skimage.measure import compare_ssim\n",
    "import argparse\n",
    "import imutils\n",
    "import cv2"
   ]
  },
  {
   "cell_type": "code",
   "execution_count": 9,
   "metadata": {},
   "outputs": [],
   "source": [
    "imageA = cv2.imread(r'C:\\Users\\malini.d\\Desktop\\image-difference\\images\\ABC3.jpg')\n",
    "imageB = cv2.imread(r'C:\\Users\\malini.d\\Desktop\\image-difference\\images\\ABC4.jpg')"
   ]
  },
  {
   "cell_type": "code",
   "execution_count": 10,
   "metadata": {},
   "outputs": [],
   "source": [
    "grayA = cv2.cvtColor(imageA, cv2.COLOR_BGR2GRAY)\n",
    "grayB = cv2.cvtColor(imageB, cv2.COLOR_BGR2GRAY)"
   ]
  },
  {
   "cell_type": "code",
   "execution_count": 11,
   "metadata": {},
   "outputs": [],
   "source": [
    "(score, diff) = compare_ssim(grayA, grayB, full=True)\n",
    "diff = (diff * 255).astype(\"uint8\")\n",
    "print(\"SSIM: {}\".format(score))"
   ]
  },
  {
   "cell_type": "code",
   "execution_count": 12,
   "metadata": {},
   "outputs": [],
   "source": [
    "thresh = cv2.threshold(diff, 0, 255,\n",
    "\tcv2.THRESH_BINARY_INV | cv2.THRESH_OTSU)[1]\n",
    "cnts = cv2.findContours(thresh.copy(), cv2.RETR_EXTERNAL,\n",
    "\tcv2.CHAIN_APPROX_SIMPLE)\n",
    "cnts = imutils.grab_contours(cnts)"
   ]
  },
  {
   "cell_type": "code",
   "execution_count": 13,
   "metadata": {},
   "outputs": [],
   "source": [
    "# loop over the contours\n",
    "for c in cnts:\n",
    "\t# compute the bounding box of the contour and then draw the\n",
    "\t# bounding box on both input images to represent where the two\n",
    "\t# images differ ABC Fund 04-2019\n",
    "\t(x, y, w, h) = cv2.boundingRect(c)\n",
    "\tcv2.rectangle(imageA, (x, y), (x + w, y + h), (0, 0, 255), 2)\n",
    "\tcv2.rectangle(imageB, (x, y), (x + w, y + h), (0, 0, 255), 2)"
   ]
  },
  {
   "cell_type": "code",
   "execution_count": 14,
   "metadata": {},
   "outputs": [],
   "source": [
    "cv2.imshow(\"Original\", imageA)\n",
    "cv2.imshow(\"Modified\", imageB)\n",
    "cv2.imshow(\"Diff\", diff)\n",
    "cv2.imshow(\"Thresh\", thresh)\n",
    "cv2.waitKey(0)"
   ]
  },
  {
   "cell_type": "code",
   "execution_count": null,
   "metadata": {},
   "outputs": [],
   "source": []
  },
  {
   "cell_type": "code",
   "execution_count": null,
   "metadata": {},
   "outputs": [],
   "source": []
  },
  {
   "cell_type": "markdown",
   "metadata": {},
   "source": [
    "# API"
   ]
  },
  {
   "cell_type": "code",
   "execution_count": null,
   "metadata": {},
   "outputs": [],
   "source": [
    "class ImageDifference(Resource):\n",
    "    #@app.route('/')\n",
    "    @jwt_required()\n",
    "    def post(self):\n",
    "        image1= request.files['imageA1']  \n",
    "        image1.save(image1.filename)  \n",
    "        imageA = cv2.imread(image1.filename)\n",
    "        \n",
    "        image2= request.files['imageB2']  \n",
    "        image2.save(image2.filename)  \n",
    "        imageB = cv2.imread(image2.filename)\n",
    "        \n",
    "        grayA = cv2.cvtColor(imageA, cv2.COLOR_BGR2GRAY)\n",
    "        grayB = cv2.cvtColor(imageB, cv2.COLOR_BGR2GRAY)\n",
    "        # compute the Structural Similarity Index (SSIM) between the two\n",
    "        # images, ensuring that the difference image is returned\n",
    "        (score, diff) = compare_ssim(grayA, grayB, full=True)\n",
    "        diff = (diff * 255).astype(\"uint8\")\n",
    "        print(\"SSIM: {}\".format(score))\n",
    "        # threshold the difference image, followed by finding contours to\n",
    "        # obtain the regions of the two input images that differ\n",
    "        thresh = cv2.threshold(diff, 0, 255,cv2.THRESH_BINARY_INV | cv2.THRESH_OTSU)[1]\n",
    "        cnts = cv2.findContours(thresh.copy(), cv2.RETR_EXTERNAL,cv2.CHAIN_APPROX_SIMPLE)\n",
    "        cnts = imutils.grab_contours(cnts)\n",
    "        # loop over the contours\n",
    "        for c in cnts:\n",
    "            # compute the bounding box of the contour and then draw the\n",
    "            # bounding box on both input images to represent where the two\n",
    "            # images differ\n",
    "            (x, y, w, h) = cv2.boundingRect(c)\n",
    "            cv2.rectangle(imageA, (x, y), (x + w, y + h), (0, 0, 255), 2)\n",
    "            cv2.rectangle(imageB, (x, y), (x + w, y + h), (0, 0, 255), 2)\n",
    "        path = 'C:/Users/malini.d/Desktop/ImageDifference/SSIM_API/Saved_images'\n",
    "        # show the output images\n",
    "\n",
    "        cv2.imshow(\"First_image\", imageA)\n",
    "        cv2.imshow(\"Second_image\", imageB)\n",
    "        #cv2.imshow(\"Diff\", diff)\n",
    "        #cv2.imshow(\"Thresh\", thresh)\n",
    "        cv2.waitKey(0)\n",
    "        cv2.imwrite(os.path.join(path , image1.filename), imageA)\n",
    "        cv2.imwrite(os.path.join(path , image2.filename), imageB)\n",
    "        #cv2.imwrite(os.path.join(path , 'Diff.jpg'), diff)\n",
    "        #cv2.imwrite(os.path.join(path , 'Thresh.jpg'), thresh)\n",
    "        cv2.waitKey(0)\n",
    "        return 'File Saved Successfully!!!'"
   ]
  }
 ],
 "metadata": {
  "kernelspec": {
   "display_name": "Python 3",
   "language": "python",
   "name": "python3"
  },
  "language_info": {
   "codemirror_mode": {
    "name": "ipython",
    "version": 3
   },
   "file_extension": ".py",
   "mimetype": "text/x-python",
   "name": "python",
   "nbconvert_exporter": "python",
   "pygments_lexer": "ipython3",
   "version": "3.6.10"
  }
 },
 "nbformat": 4,
 "nbformat_minor": 4
}
